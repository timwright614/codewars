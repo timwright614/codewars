{
  "nbformat": 4,
  "nbformat_minor": 0,
  "metadata": {
    "colab": {
      "name": "Wumpus_World.ipynb",
      "provenance": [],
      "collapsed_sections": []
    },
    "kernelspec": {
      "name": "python3",
      "display_name": "Python 3"
    },
    "language_info": {
      "name": "python"
    }
  },
  "cells": [
    {
      "cell_type": "code",
      "source": [
        "import random, copy\n",
        "import matplotlib.pyplot as plt\n",
        "from matplotlib import colors\n",
        "import numpy as np\n",
        "from IPython.display import clear_output \n",
        "import time\n",
        "\n"
      ],
      "metadata": {
        "id": "CsS87ZyX-tqX"
      },
      "execution_count": 1,
      "outputs": []
    },
    {
      "cell_type": "code",
      "source": [
        "# https://www.codewars.com/kata/625c70f8a071210030c8e22a"
      ],
      "metadata": {
        "id": "XGC_RbMBOx5t"
      },
      "execution_count": 2,
      "outputs": []
    },
    {
      "cell_type": "code",
      "source": [
        "\n",
        "cave1 = [\n",
        "    [*\"____\"],\n",
        "    [*\"_W__\"],\n",
        "    [*\"___G\"],\n",
        "    [*\"P___\"]\n",
        "]\n",
        "\n",
        "        \n",
        "cave2 = [\n",
        "    [*\"____\"],\n",
        "    [*\"_P__\"],\n",
        "    [*\"____\"],\n",
        "    [*\"_W_G\"]\n",
        "]\n",
        "\n",
        "        \n",
        "cave3 = [\n",
        "    [*\"____\"],\n",
        "    [*\"____\"],\n",
        "    [*\"W__P\"],\n",
        "    [*\"__PG\"]\n",
        "]\n",
        "\n",
        "\n",
        "cave4 = [\n",
        "    [*\"__GP\"],\n",
        "    [*\"_P__\"],\n",
        "    [*\"W___\"],\n",
        "    [*\"____\"]\n",
        "]\n",
        "\n",
        "\n",
        "cave5 = [\n",
        "    [*\"__W_\"],\n",
        "    [*\"____\"],\n",
        "    [*\"___P\"],\n",
        "    [*\"___G\"]\n",
        "]\n",
        "\n",
        "\n",
        "cave6 = [\n",
        "    [*\"__W_\"],\n",
        "    [*\"____\"],\n",
        "    [*\"__PP\"],\n",
        "    [*\"___G\"]\n",
        "]\n",
        "\n",
        "\n",
        "cave7 = [\n",
        "    [*\"__W_\"],\n",
        "    [*\"____\"],\n",
        "    [*\"_PPP\"],\n",
        "    [*\"___G\"]\n",
        "]\n",
        "\n",
        "\n",
        "cave8 = [\n",
        "    [*\"___P\"],\n",
        "    [*\"__PG\"],\n",
        "    [*\"___P\"],\n",
        "    [*\"W___\"]\n",
        "]\n",
        "\n",
        "\n",
        "cave9 = [\n",
        "    [*\"__P_\"],\n",
        "    [*\"____\"],\n",
        "    [*\"__P_\"],\n",
        "    [*\"__WG\"]\n",
        "]\n",
        "\n",
        "\n",
        "cave10 = [\n",
        "    [*\"____\"],\n",
        "    [*\"__PW\"],\n",
        "    [*\"PG__\"],\n",
        "    [*\"____\"]\n",
        "]\n",
        "\n",
        "\n",
        "cave11 = [\n",
        "    [*\"__P_\"],\n",
        "    [*\"____\"],\n",
        "    [*\"WP__\"],\n",
        "    [*\"_G__\"]\n",
        "]\n",
        "\n",
        "\n",
        "cave12 = [\n",
        "    [*\"__PG\"],\n",
        "    [*\"____\"],\n",
        "    [*\"__WP\"],\n",
        "    [*\"____\"]\n",
        "]\n",
        "\n",
        "\n",
        "cave13 = [\n",
        "    [*\"___W\"],\n",
        "    [*\"__P_\"],\n",
        "    [*\"__G_\"],\n",
        "    [*\"P___\"]\n",
        "]\n",
        "\n",
        "\n",
        "cave14 = [\n",
        "    [*\"__WP\"],\n",
        "    [*\"_P__\"],\n",
        "    [*\"____\"],\n",
        "    [*\"_G__\"]\n",
        "]\n",
        "\n",
        "\n",
        "cave15 = [\n",
        "    [*\"__WP\"],\n",
        "    [*\"____\"],\n",
        "    [*\"__P_\"],\n",
        "    [*\"P_G_\"]\n",
        "]\n",
        "\n",
        "\n",
        "cave16 = [\n",
        "    [*\"__PG\"],\n",
        "    [*\"___W\"],\n",
        "    [*\"__PP\"],\n",
        "    [*\"____\"]\n",
        "]\n"
      ],
      "metadata": {
        "id": "vk8IfbvHPf5W"
      },
      "execution_count": 3,
      "outputs": []
    },
    {
      "cell_type": "code",
      "source": [
        "#takes a cave system as an input and creates a list for each cave room, \n",
        "#including all senses available in those rooms, nominated by a lower case of the\n",
        "#relevant feature being sensed\n",
        "\n",
        "def true_cave(cave):\n",
        "    true_cave = [[[] for i in range(4)] for i in range(4)]\n",
        "    for j in range(4):\n",
        "        for i in range(4):\n",
        "            if cave[j][i] != '_':\n",
        "                true_cave[j][i].append(cave[j][i])\n",
        "            neighbours = get_neighbours(j,i,cave)\n",
        "            for neighbour in neighbours:\n",
        "                if cave[neighbour[0]][neighbour[1]] in [X for X in ['W','P'] if X.lower() not in true_cave[j][i]]:\n",
        "                    true_cave[j][i].append((cave[neighbour[0]][neighbour[1]]).lower())\n",
        "    return true_cave"
      ],
      "metadata": {
        "id": "n7kjZlZ0U0IU"
      },
      "execution_count": 27,
      "outputs": []
    },
    {
      "cell_type": "code",
      "source": [
        "def get_neighbours(y,x,grid):\n",
        "    #lists neighbour squares for a given square\n",
        "\n",
        "    neighbours = []\n",
        "\n",
        "    for i in [-1,1]:\n",
        "        \n",
        "        if -1 < y + i < len(grid):\n",
        "            neighbours.append((y + i, x))\n",
        "        if -1 < x + i < len(grid[0]):\n",
        "            neighbours.append((y, x + i))\n",
        "        \n",
        "    return(neighbours)"
      ],
      "metadata": {
        "id": "FnEu4w-4VmfI"
      },
      "execution_count": 5,
      "outputs": []
    },
    {
      "cell_type": "code",
      "source": [
        "def navigable_neighbours(grid):\n",
        "    #lists navigable squares for a grid and lists navigable neighbours as a dic\n",
        "    #for each address\n",
        "    navigable = []\n",
        "    neighbours = {}\n",
        "    for y in range(len(grid)):\n",
        "        for x in range(len(grid[0])):\n",
        "            if grid[y][x] == '_':\n",
        "                navigable.append((y,x))\n",
        "                neighbours[(y,x)] = [loc for loc in get_neighbours(y,x,grid) if grid[loc[0]][loc[1]] == '_']\n",
        "\n",
        "    return navigable, neighbours"
      ],
      "metadata": {
        "id": "IQ9KPoA5uYXO"
      },
      "execution_count": 6,
      "outputs": []
    },
    {
      "cell_type": "code",
      "source": [
        ""
      ],
      "metadata": {
        "id": "w4AfNrFXPTn8"
      },
      "execution_count": 6,
      "outputs": []
    },
    {
      "cell_type": "markdown",
      "source": [
        "It occurs to me that this should be solvable by assessing grids against a set of rules that will determine solvability. Out of interest I am now investigating creating an algorithm that solves the puzzle, step by step, displaying the action in real time. It seems to me that being able to navigate through known safe areas from a to b will be useful and interesting to investigate.  "
      ],
      "metadata": {
        "id": "_hJPWYR1PVPB"
      }
    },
    {
      "cell_type": "code",
      "source": [
        "def navigate(start, end, grid):\n",
        "    #generates a list of coordinates that represent a sequential path between \n",
        "    #navigable points\n",
        "    \n",
        "    neighbours = navigable_neighbours(grid)[1]\n",
        "\n",
        "    active_routes = [[start]]\n",
        "    \n",
        "    for i in neighbours.values():\n",
        "        if start in i:\n",
        "            i.remove(start)\n",
        "    \n",
        "    primary_routes = []\n",
        "\n",
        "    progressing = True\n",
        "    while progressing:\n",
        "\n",
        "        progressing = False\n",
        "        route_progression = []\n",
        "\n",
        "        for route in active_routes:\n",
        "            options = neighbours[route[-1]].copy()\n",
        "            if options == []:\n",
        "                primary_routes.append(route)\n",
        "            else:\n",
        "                progressing = True\n",
        "\n",
        "            for opt in options:\n",
        "                \n",
        "                route_seed = route.copy()\n",
        "                route_seed.append(opt)\n",
        "                route_progression.append(route_seed)\n",
        "                \n",
        "                for i in neighbours.values():\n",
        "                    if opt in i:\n",
        "                        i.remove(opt) \n",
        "\n",
        "        active_routes = route_progression\n",
        "\n",
        "    primary_routes.extend(route_progression)\n",
        "\n",
        "    for i in primary_routes:\n",
        "        if end in i:\n",
        "            for j in range(len(i)):\n",
        "                if i[j] == end:\n",
        "                    return i[:j+1]"
      ],
      "metadata": {
        "id": "537F-TxSzSbV"
      },
      "execution_count": 7,
      "outputs": []
    },
    {
      "cell_type": "code",
      "source": [
        "def generate_grid(height, width, barrier_rate):\n",
        "\n",
        "    # generates a wumpus world style grid (list of lists) of specified \n",
        "    #dimensions with a certain rate (in % terms) of wumpus world style \n",
        "    #obstructions, '-' being passable, 'W' being impassable   \n",
        "\n",
        "    limiting = width\n",
        "\n",
        "    if width > height:\n",
        "        limiting = height\n",
        "\n",
        "    if barrier_rate > 40:\n",
        "        barrier_rate = 40\n",
        "\n",
        "    grid = [['_' for x in range(width)] for y in range(height)]\n",
        "\n",
        "    for y in range(len(grid)):\n",
        "        for x in range(len(grid[0])):\n",
        "            barrier = random.randint(1,100//barrier_rate)\n",
        "            if barrier == 1:\n",
        "                barrier_len = random.randint(1,round(limiting**0.5))\n",
        "                barrier_orient = random.randint(0,1)\n",
        "                if barrier_orient == 0:\n",
        "                    if barrier_len > len(grid[0]) - x:\n",
        "                        barrier_len = len(grid[0]) - x\n",
        "                    grid[y][x:x+barrier_len] = ['W' for i in range(barrier_len)]\n",
        "                else:\n",
        "                    if barrier_len > len(grid) - y:\n",
        "                        barrier_len = len(grid) - y\n",
        "                    for j in range(barrier_len):\n",
        "                        grid[y+j][x] = 'W'\n",
        "    return grid"
      ],
      "metadata": {
        "id": "2Wixm0XI-lIa"
      },
      "execution_count": 8,
      "outputs": []
    },
    {
      "cell_type": "code",
      "source": [
        "def convert_grid(grid):\n",
        "    #converts a wumpus world sytle grid into one with integer values for colour\n",
        "    # display\n",
        "\n",
        "    grid_out = []\n",
        "\n",
        "    map_dict = {'_':0, 'W':1}\n",
        "\n",
        "    for i in grid:\n",
        "        row = [map_dict[j] for j in i]\n",
        "        grid_out.append(row)\n",
        "    \n",
        "    return grid_out"
      ],
      "metadata": {
        "id": "-E_7VE5N-UQd"
      },
      "execution_count": 9,
      "outputs": []
    },
    {
      "cell_type": "code",
      "source": [
        "def show_grid(grid, figsize):\n",
        "\n",
        "    #displays coloured grid with coordinates as axis labels\n",
        "\n",
        "    cmap = cmap = colors.ListedColormap(['LightGrey', 'coral', 'LawnGreen', 'g', 'r'])\n",
        "    fig, ax = plt.subplots(figsize = figsize)\n",
        "    bounds = [0,0.5,1.5,2.5,3.5,4]\n",
        "    norm = colors.BoundaryNorm(bounds, cmap.N)\n",
        "    ax.grid(which='major', axis='both', linestyle='-', color='k', linewidth=1)\n",
        "    ax.set_xticks(ticks = np.arange(-.5, len(grid[0]), 1));\n",
        "    ax.set_yticks(np.arange(-.5, len(grid), 1));\n",
        "    ax.tick_params(labelbottom=True,labelleft=True, labeltop = True, labelright = True)\n",
        "    ax.set_xticklabels(range(0,len(grid[0])))\n",
        "    ax.set_yticklabels(range(0,len(grid)))\n",
        "    ax.imshow(grid, cmap=cmap, norm=norm)\n",
        "    plt.show()"
      ],
      "metadata": {
        "id": "hR9HbaY5VZA2"
      },
      "execution_count": 10,
      "outputs": []
    },
    {
      "cell_type": "code",
      "source": [
        "def show_path(start, end, grid, reduce_steps = True, figsize = (15,15)):\n",
        "    #with a chosen start and end point, displays a progressive path accross a \n",
        "    #grid if navigable\n",
        "    \n",
        "    path = navigate(start, end, grid)\n",
        "\n",
        "    grid_path = convert_grid(grid)\n",
        "\n",
        "    grid_path[start[0]][start[1]] = 3\n",
        "    grid_path[end[0]][end[1]] = 4\n",
        "    \n",
        "    show_grid(grid_path,figsize)\n",
        "\n",
        "    display_steps = list(np.linspace(0,1,10))\n",
        "    cycle = 0\n",
        "    \n",
        "    if reduce_steps and len(path) > 11:\n",
        "    \n",
        "        for i in range(len(path)):\n",
        "\n",
        "            cycle += 1\n",
        "\n",
        "            clear_output(wait=True)\n",
        "            grid_path[path[i][0]][path[i][1]] = 2\n",
        "\n",
        "            if cycle/len(path) >= display_steps[0]:\n",
        "                display_steps.pop(0)\n",
        "                show_grid(grid_path,figsize)\n",
        "    else:\n",
        "\n",
        "        for i in range(len(path)):\n",
        "\n",
        "            clear_output(wait=True)\n",
        "            grid_path[path[i][0]][path[i][1]] = 2\n",
        "            show_grid(grid_path,figsize)"
      ],
      "metadata": {
        "id": "VvvxnFRpNL4f"
      },
      "execution_count": 11,
      "outputs": []
    },
    {
      "cell_type": "code",
      "source": [
        "#generating a random grid with obstacles \n",
        "\n",
        "height = 75\n",
        "width = 75\n",
        "barrier_rate = 6 \n",
        "\n",
        "figsize = (20,20)\n",
        "\n",
        "grid = generate_grid(height,width,barrier_rate)\n",
        "display_grid = convert_grid(grid)\n",
        "show_grid(display_grid,figsize)"
      ],
      "metadata": {
        "colab": {
          "base_uri": "https://localhost:8080/",
          "height": 1000
        },
        "id": "6NCYwrNeEzD9",
        "outputId": "a7d73c17-29fb-4351-c535-f1948d0483c8"
      },
      "execution_count": 12,
      "outputs": [
        {
          "output_type": "display_data",
          "data": {
            "text/plain": [
              "<Figure size 1440x1440 with 1 Axes>"
            ],
            "image/png": "[encoded data removed]"
          },
          "metadata": {
            "needs_background": "light"
          }
        }
      ]
    },
    {
      "cell_type": "code",
      "source": [
        "#choosing a valid start and end point to show a path between (run cell to visualise in motion)\n",
        "\n",
        "start = (0,0)\n",
        "end = (71,74)\n",
        "figsize = (20,20)\n",
        "show_path(start, end, grid, figsize = figsize)"
      ],
      "metadata": {
        "colab": {
          "base_uri": "https://localhost:8080/",
          "height": 1000
        },
        "id": "-tVy-JtuLw0I",
        "outputId": "e6f21163-a511-46a3-fab3-c2bf693c4cd2"
      },
      "execution_count": 13,
      "outputs": [
        {
          "output_type": "display_data",
          "data": {
            "text/plain": [
              "<Figure size 1440x1440 with 1 Axes>"
            ],
            "image/png": "[encoded data removed]"
          },
          "metadata": {
            "needs_background": "light"
          }
        }
      ]
    },
    {
      "cell_type": "code",
      "source": [
        "cave1"
      ],
      "metadata": {
        "id": "R5SS-jyPzrZ4",
        "colab": {
          "base_uri": "https://localhost:8080/"
        },
        "outputId": "ba612cf4-8c01-4b4e-ce29-f67215f6593f"
      },
      "execution_count": 14,
      "outputs": [
        {
          "output_type": "execute_result",
          "data": {
            "text/plain": [
              "[['_', '_', '_', '_'],\n",
              " ['_', 'W', '_', '_'],\n",
              " ['_', '_', '_', 'G'],\n",
              " ['P', '_', '_', '_']]"
            ]
          },
          "metadata": {},
          "execution_count": 14
        }
      ]
    },
    {
      "cell_type": "code",
      "source": [
        "true_cave(cave1)"
      ],
      "metadata": {
        "colab": {
          "base_uri": "https://localhost:8080/"
        },
        "id": "vc-LWz1s5mwj",
        "outputId": "bdcf4664-8eb4-46e9-ec7d-c7c113e69a53"
      },
      "execution_count": 28,
      "outputs": [
        {
          "output_type": "execute_result",
          "data": {
            "text/plain": [
              "[[[], ['w'], [], []],\n",
              " [['w'], ['W'], ['w'], []],\n",
              " [['p'], ['w'], [], ['G']],\n",
              " [['P'], ['p'], [], []]]"
            ]
          },
          "metadata": {},
          "execution_count": 28
        }
      ]
    },
    {
      "cell_type": "code",
      "source": [
        "get_neighbours(2,2,cave1)"
      ],
      "metadata": {
        "colab": {
          "base_uri": "https://localhost:8080/"
        },
        "id": "EJ9dbk_V5qVe",
        "outputId": "bb21df19-e24c-4b4a-9448-0687e78ae528"
      },
      "execution_count": 29,
      "outputs": [
        {
          "output_type": "execute_result",
          "data": {
            "text/plain": [
              "[(1, 2), (2, 1), (3, 2), (2, 3)]"
            ]
          },
          "metadata": {},
          "execution_count": 29
        }
      ]
    },
    {
      "cell_type": "code",
      "source": [
        ""
      ],
      "metadata": {
        "id": "gnJd_I0Rk-eK"
      },
      "execution_count": null,
      "outputs": []
    },
    {
      "cell_type": "code",
      "source": [
        "possibilities = [[['P','W','G'] for i in range(4)] for j in range(4)] "
      ],
      "metadata": {
        "id": "thosFIvG6U3l"
      },
      "execution_count": 34,
      "outputs": []
    },
    {
      "cell_type": "code",
      "source": [
        "possibilities[0][0].pop()\n",
        "possibilities"
      ],
      "metadata": {
        "colab": {
          "base_uri": "https://localhost:8080/"
        },
        "id": "KsJ6E2yBk863",
        "outputId": "812bc0d5-52c3-4310-fd11-db4ad0663561"
      },
      "execution_count": 35,
      "outputs": [
        {
          "output_type": "execute_result",
          "data": {
            "text/plain": [
              "[[['P', 'W'], ['P', 'W', 'G'], ['P', 'W', 'G'], ['P', 'W', 'G']],\n",
              " [['P', 'W', 'G'], ['P', 'W', 'G'], ['P', 'W', 'G'], ['P', 'W', 'G']],\n",
              " [['P', 'W', 'G'], ['P', 'W', 'G'], ['P', 'W', 'G'], ['P', 'W', 'G']],\n",
              " [['P', 'W', 'G'], ['P', 'W', 'G'], ['P', 'W', 'G'], ['P', 'W', 'G']]]"
            ]
          },
          "metadata": {},
          "execution_count": 35
        }
      ]
    },
    {
      "cell_type": "code",
      "source": [
        "cave2"
      ],
      "metadata": {
        "colab": {
          "base_uri": "https://localhost:8080/"
        },
        "id": "a7ap-qqHlKeB",
        "outputId": "7c2d89cd-2ebe-4a49-9672-edf99bd0f282"
      },
      "execution_count": 36,
      "outputs": [
        {
          "output_type": "execute_result",
          "data": {
            "text/plain": [
              "[['_', '_', '_', '_'],\n",
              " ['_', 'P', '_', '_'],\n",
              " ['_', '_', '_', '_'],\n",
              " ['_', 'W', '_', 'G']]"
            ]
          },
          "metadata": {},
          "execution_count": 36
        }
      ]
    },
    {
      "cell_type": "code",
      "source": [
        "cave3\n"
      ],
      "metadata": {
        "colab": {
          "base_uri": "https://localhost:8080/"
        },
        "id": "lOqh4XN1msBB",
        "outputId": "7120fe72-bc2b-4890-fd7c-92d115ef8082"
      },
      "execution_count": 37,
      "outputs": [
        {
          "output_type": "execute_result",
          "data": {
            "text/plain": [
              "[['_', '_', '_', '_'],\n",
              " ['_', '_', '_', '_'],\n",
              " ['W', '_', '_', 'P'],\n",
              " ['_', '_', 'P', 'G']]"
            ]
          },
          "metadata": {},
          "execution_count": 37
        }
      ]
    },
    {
      "cell_type": "code",
      "source": [
        "cave4"
      ],
      "metadata": {
        "colab": {
          "base_uri": "https://localhost:8080/"
        },
        "id": "l1H7YCupmvs5",
        "outputId": "48c8fb23-18cb-494d-dc9c-c251c0aa577f"
      },
      "execution_count": 38,
      "outputs": [
        {
          "output_type": "execute_result",
          "data": {
            "text/plain": [
              "[['_', '_', 'G', 'P'],\n",
              " ['_', 'P', '_', '_'],\n",
              " ['W', '_', '_', '_'],\n",
              " ['_', '_', '_', '_']]"
            ]
          },
          "metadata": {},
          "execution_count": 38
        }
      ]
    },
    {
      "cell_type": "code",
      "source": [
        "def sensed_neighbours(y,x,grid):\n",
        "    sensed_neighbours = []\n",
        "    neighbours = get_neighbours(y,x,grid)\n",
        "    \n",
        "    for neighbour in neighbours:\n",
        "        if grid[neighbour[0]][neighbour[1]] != '_':                  \n",
        "            sensed_neighbours.append(grid[neighbour[0]][neighbour[1]])\n",
        "\n",
        "    return sensed_neighbours"
      ],
      "metadata": {
        "id": "ntgajwLam3di"
      },
      "execution_count": 45,
      "outputs": []
    },
    {
      "cell_type": "code",
      "source": [
        "sensed_neighbours(1,0,cave4)"
      ],
      "metadata": {
        "colab": {
          "base_uri": "https://localhost:8080/"
        },
        "id": "A8ImZcfbp2QG",
        "outputId": "88a7cc47-8b0e-40b3-fc03-67f453f91c75"
      },
      "execution_count": 46,
      "outputs": [
        {
          "output_type": "execute_result",
          "data": {
            "text/plain": [
              "['W', 'P']"
            ]
          },
          "metadata": {},
          "execution_count": 46
        }
      ]
    },
    {
      "cell_type": "code",
      "source": [
        ""
      ],
      "metadata": {
        "id": "UO5FV5pSp67A"
      },
      "execution_count": null,
      "outputs": []
    }
  ]
}