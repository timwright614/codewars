{
  "nbformat": 4,
  "nbformat_minor": 0,
  "metadata": {
    "colab": {
      "name": "Wumpus_World.ipynb",
      "provenance": [],
      "collapsed_sections": []
    },
    "kernelspec": {
      "name": "python3",
      "display_name": "Python 3"
    },
    "language_info": {
      "name": "python"
    }
  },
  "cells": [
    {
      "cell_type": "code",
      "source": [
        "\n",
        "cave1 = [\n",
        "    [*\"____\"],\n",
        "    [*\"_W__\"],\n",
        "    [*\"___G\"],\n",
        "    [*\"P___\"]\n",
        "]\n",
        "\n",
        "        \n",
        "cave2 = [\n",
        "    [*\"____\"],\n",
        "    [*\"_P__\"],\n",
        "    [*\"____\"],\n",
        "    [*\"_W_G\"]\n",
        "]\n",
        "\n",
        "        \n",
        "cave3 = [\n",
        "    [*\"____\"],\n",
        "    [*\"____\"],\n",
        "    [*\"W__P\"],\n",
        "    [*\"__PG\"]\n",
        "]\n",
        "\n",
        "\n",
        "cave4 = [\n",
        "    [*\"__GP\"],\n",
        "    [*\"_P__\"],\n",
        "    [*\"W___\"],\n",
        "    [*\"____\"]\n",
        "]\n",
        "\n",
        "\n",
        "cave5 = [\n",
        "    [*\"__W_\"],\n",
        "    [*\"____\"],\n",
        "    [*\"___P\"],\n",
        "    [*\"___G\"]\n",
        "]\n",
        "\n",
        "\n",
        "cave6 = [\n",
        "    [*\"__W_\"],\n",
        "    [*\"____\"],\n",
        "    [*\"__PP\"],\n",
        "    [*\"___G\"]\n",
        "]\n",
        "\n",
        "\n",
        "cave7 = [\n",
        "    [*\"__W_\"],\n",
        "    [*\"____\"],\n",
        "    [*\"_PPP\"],\n",
        "    [*\"___G\"]\n",
        "]\n",
        "\n",
        "\n",
        "cave8 = [\n",
        "    [*\"___P\"],\n",
        "    [*\"__PG\"],\n",
        "    [*\"___P\"],\n",
        "    [*\"W___\"]\n",
        "]\n",
        "\n",
        "\n",
        "cave9 = [\n",
        "    [*\"__P_\"],\n",
        "    [*\"____\"],\n",
        "    [*\"__P_\"],\n",
        "    [*\"__WG\"]\n",
        "]\n",
        "\n",
        "\n",
        "cave10 = [\n",
        "    [*\"____\"],\n",
        "    [*\"__PW\"],\n",
        "    [*\"PG__\"],\n",
        "    [*\"____\"]\n",
        "]\n",
        "\n",
        "\n",
        "cave11 = [\n",
        "    [*\"__P_\"],\n",
        "    [*\"____\"],\n",
        "    [*\"WP__\"],\n",
        "    [*\"_G__\"]\n",
        "]\n",
        "\n",
        "\n",
        "cave12 = [\n",
        "    [*\"__PG\"],\n",
        "    [*\"____\"],\n",
        "    [*\"__WP\"],\n",
        "    [*\"____\"]\n",
        "]\n",
        "\n",
        "\n",
        "cave13 = [\n",
        "    [*\"___W\"],\n",
        "    [*\"__P_\"],\n",
        "    [*\"__G_\"],\n",
        "    [*\"P___\"]\n",
        "]\n",
        "\n",
        "\n",
        "cave14 = [\n",
        "    [*\"__WP\"],\n",
        "    [*\"_P__\"],\n",
        "    [*\"____\"],\n",
        "    [*\"_G__\"]\n",
        "]\n",
        "\n",
        "\n",
        "cave15 = [\n",
        "    [*\"__WP\"],\n",
        "    [*\"____\"],\n",
        "    [*\"__P_\"],\n",
        "    [*\"P_G_\"]\n",
        "]\n",
        "\n",
        "\n",
        "cave16 = [\n",
        "    [*\"__PG\"],\n",
        "    [*\"___W\"],\n",
        "    [*\"__PP\"],\n",
        "    [*\"____\"]\n",
        "]\n"
      ],
      "metadata": {
        "id": "vk8IfbvHPf5W"
      },
      "execution_count": 4,
      "outputs": []
    },
    {
      "cell_type": "code",
      "source": [
        "def true_cave(cave):\n",
        "    true_cave = [[[] for i in range(4)] for i in range(4)]\n",
        "    for j in range(4):\n",
        "        for i in range(4):\n",
        "            if cave[j][i] != '_':\n",
        "                true_cave[j][i].append(cave[j][i])\n",
        "            neighbours = get_neighbours(j,i)\n",
        "            for neighbour in neighbours:\n",
        "                if cave[neighbour[0]][neighbour[1]] in [X for X in ['W','P'] if X.lower() not in true_cave[j][i]]:\n",
        "                    true_cave[j][i].append((cave[neighbour[0]][neighbour[1]]).lower())\n",
        "    return true_cave"
      ],
      "metadata": {
        "id": "n7kjZlZ0U0IU"
      },
      "execution_count": null,
      "outputs": []
    },
    {
      "cell_type": "code",
      "source": [
        "def get_neighbours(y,x):\n",
        "\n",
        "    neighbours = []\n",
        "\n",
        "    for i in [-1,1]:\n",
        "        \n",
        "        if -1 < y + i < 4:\n",
        "            neighbours.append((y + i, x))\n",
        "        if -1 < x + i < 4:\n",
        "            neighbours.append((y, x + i))\n",
        "        \n",
        "    return(neighbours)"
      ],
      "metadata": {
        "id": "FnEu4w-4VmfI"
      },
      "execution_count": 10,
      "outputs": []
    },
    {
      "cell_type": "code",
      "source": [
        "cave1"
      ],
      "metadata": {
        "colab": {
          "base_uri": "https://localhost:8080/"
        },
        "id": "2ZZFBpCrR7-y",
        "outputId": "138fb963-6bdd-4ebe-948c-7f6bec53d1fe"
      },
      "execution_count": null,
      "outputs": [
        {
          "output_type": "execute_result",
          "data": {
            "text/plain": [
              "[['_', '_', '_', '_'],\n",
              " ['_', 'W', '_', '_'],\n",
              " ['_', '_', '_', 'G'],\n",
              " ['P', '_', '_', '_']]"
            ]
          },
          "metadata": {},
          "execution_count": 7
        }
      ]
    },
    {
      "cell_type": "code",
      "source": [
        "def navigate(start,end,grid):\n",
        "    navigable = []\n",
        "    neighbours = {}\n",
        "    for y in range(4):\n",
        "        for x in range(4):\n",
        "            if grid[y][x] == '_':\n",
        "                navigable.append((y,x))\n",
        "                neighbours[(y,x)] = get_neighbours(y,x)\n",
        "\n",
        "    return\n"
      ],
      "metadata": {
        "id": "FtVExS38R8sz"
      },
      "execution_count": 6,
      "outputs": []
    },
    {
      "cell_type": "code",
      "source": [
        "def navigable_neighbours(grid):\n",
        "\n",
        "    navigable = []\n",
        "    neighbours = {}\n",
        "    for y in range(4):\n",
        "        for x in range(4):\n",
        "            if grid[y][x] == '_':\n",
        "                navigable.append((y,x))\n",
        "                neighbours[(y,x)] = [loc for loc in get_neighbours(y,x) if grid[loc[0]][loc[1]] == '_']\n",
        "\n",
        "    return navigable, neighbours"
      ],
      "metadata": {
        "id": "IQ9KPoA5uYXO"
      },
      "execution_count": 7,
      "outputs": []
    },
    {
      "cell_type": "code",
      "source": [
        "neighbours"
      ],
      "metadata": {
        "colab": {
          "base_uri": "https://localhost:8080/"
        },
        "id": "EO6UYK-zw58T",
        "outputId": "cec89455-d7d8-4560-c216-a11c24f5208b"
      },
      "execution_count": null,
      "outputs": [
        {
          "output_type": "execute_result",
          "data": {
            "text/plain": [
              "{(0, 0): [(1, 0), (0, 1)],\n",
              " (0, 1): [(0, 0), (0, 2)],\n",
              " (0, 2): [(0, 1), (1, 2), (0, 3)],\n",
              " (0, 3): [(0, 2), (1, 3)],\n",
              " (1, 0): [(0, 0), (2, 0)],\n",
              " (1, 2): [(0, 2), (2, 2), (1, 3)],\n",
              " (1, 3): [(0, 3), (1, 2)],\n",
              " (2, 0): [(1, 0), (2, 1)],\n",
              " (2, 1): [(2, 0), (3, 1), (2, 2)],\n",
              " (2, 2): [(1, 2), (2, 1), (3, 2)],\n",
              " (3, 1): [(2, 1), (3, 2)],\n",
              " (3, 2): [(2, 2), (3, 1), (3, 3)],\n",
              " (3, 3): [(3, 2)]}"
            ]
          },
          "metadata": {},
          "execution_count": 200
        }
      ]
    },
    {
      "cell_type": "code",
      "source": [
        "start  = (0,0)\n",
        "end = (2,3)\n",
        "routes = [[start]]\n",
        "active_routes = [[start]]\n",
        "for i in neighbours.values():\n",
        "    if start in i:\n",
        "        i.remove(start)\n",
        "what =[]"
      ],
      "metadata": {
        "id": "BKoZ7mqIygLg"
      },
      "execution_count": null,
      "outputs": []
    },
    {
      "cell_type": "code",
      "source": [
        "while any ([i != [] for i in neighbours.values()]):\n",
        "\n",
        "    route_progression = []\n",
        "\n",
        "    for route in active_routes:\n",
        "        options = neighbours[route[-1]].copy()\n",
        "        if options == []:\n",
        "            what.append(route)\n",
        "\n",
        "        for opt in options:\n",
        "            \n",
        "            route_seed = route.copy()\n",
        "            route_seed.append(opt)\n",
        "            route_progression.append(route_seed)\n",
        "            \n",
        "            for i in neighbours.values():\n",
        "                if opt in i:\n",
        "                    i.remove(opt) \n",
        "\n",
        "    routes.extend(route_progression)\n",
        "    active_routes = route_progression\n",
        "\n",
        "what.extend(route_progression)"
      ],
      "metadata": {
        "id": "UpDrolBLvB_N"
      },
      "execution_count": null,
      "outputs": []
    },
    {
      "cell_type": "code",
      "source": [
        "def navigate(start, end, grid):\n",
        "    \n",
        "    neighbours = navigable_neighbours(grid)[1]\n",
        "\n",
        "    active_routes = [[start]]\n",
        "    \n",
        "    for i in neighbours.values():\n",
        "        if start in i:\n",
        "            i.remove(start)\n",
        "    \n",
        "    primary_routes = []\n",
        "\n",
        "    while any ([i != [] for i in neighbours.values()]):\n",
        "\n",
        "        route_progression = []\n",
        "\n",
        "        for route in active_routes:\n",
        "            options = neighbours[route[-1]].copy()\n",
        "            if options == []:\n",
        "                primary_routes.append(route)\n",
        "\n",
        "            for opt in options:\n",
        "                \n",
        "                route_seed = route.copy()\n",
        "                route_seed.append(opt)\n",
        "                route_progression.append(route_seed)\n",
        "                \n",
        "                for i in neighbours.values():\n",
        "                    if opt in i:\n",
        "                        i.remove(opt) \n",
        "\n",
        "        active_routes = route_progression\n",
        "\n",
        "    primary_routes.extend(route_progression)\n",
        "\n",
        "    for i in primary_routes:\n",
        "        if end in i:\n",
        "            for j in range(len(i)):\n",
        "                if i[j] == end:\n",
        "                    return i[:j+1]"
      ],
      "metadata": {
        "id": "537F-TxSzSbV"
      },
      "execution_count": 34,
      "outputs": []
    },
    {
      "cell_type": "code",
      "source": [
        "what"
      ],
      "metadata": {
        "colab": {
          "base_uri": "https://localhost:8080/"
        },
        "id": "VLCmhPokyTS6",
        "outputId": "1bf2e80e-e2e8-41f8-eff5-1f167ca3c8dc"
      },
      "execution_count": null,
      "outputs": [
        {
          "output_type": "execute_result",
          "data": {
            "text/plain": [
              "[[(0, 0), (0, 1), (0, 2), (0, 3)],\n",
              " [(0, 0), (1, 0), (2, 0), (2, 1), (2, 2)],\n",
              " [(0, 0), (0, 1), (0, 2), (1, 2), (1, 3)],\n",
              " [(0, 0), (1, 0), (2, 0), (2, 1), (3, 1), (3, 2), (3, 3)]]"
            ]
          },
          "metadata": {},
          "execution_count": 203
        }
      ]
    },
    {
      "cell_type": "code",
      "source": [
        "cave1"
      ],
      "metadata": {
        "colab": {
          "base_uri": "https://localhost:8080/",
          "height": 169
        },
        "id": "CFdLSfqr4csR",
        "outputId": "dbe9708b-6aed-4ba8-d687-f51157103f18"
      },
      "execution_count": 3,
      "outputs": [
        {
          "output_type": "error",
          "ename": "NameError",
          "evalue": "ignored",
          "traceback": [
            "\u001b[0;31m---------------------------------------------------------------------------\u001b[0m",
            "\u001b[0;31mNameError\u001b[0m                                 Traceback (most recent call last)",
            "\u001b[0;32m<ipython-input-3-ae3849093dd8>\u001b[0m in \u001b[0;36m<module>\u001b[0;34m()\u001b[0m\n\u001b[0;32m----> 1\u001b[0;31m \u001b[0mcave1\u001b[0m\u001b[0;34m\u001b[0m\u001b[0;34m\u001b[0m\u001b[0m\n\u001b[0m",
            "\u001b[0;31mNameError\u001b[0m: name 'cave1' is not defined"
          ]
        }
      ]
    },
    {
      "cell_type": "code",
      "source": [
        "start = (0,0)\n",
        "end = (1,2)\n",
        "navigate(start, end, cave1)"
      ],
      "metadata": {
        "colab": {
          "base_uri": "https://localhost:8080/"
        },
        "id": "7wxg5KT8nx1S",
        "outputId": "43c92ed5-c2cc-469c-e75c-f7962374fec1"
      },
      "execution_count": 38,
      "outputs": [
        {
          "output_type": "execute_result",
          "data": {
            "text/plain": [
              "[(0, 0), (0, 1), (0, 2), (1, 2)]"
            ]
          },
          "metadata": {},
          "execution_count": 38
        }
      ]
    },
    {
      "cell_type": "code",
      "source": [
        "cave1"
      ],
      "metadata": {
        "colab": {
          "base_uri": "https://localhost:8080/"
        },
        "id": "CwDd0OyInSEl",
        "outputId": "29c0569b-863e-49f3-fda2-b0ae5ae1bd8d"
      },
      "execution_count": null,
      "outputs": [
        {
          "output_type": "execute_result",
          "data": {
            "text/plain": [
              "[['_', '_', '_', '_'],\n",
              " ['_', 'W', '_', '_'],\n",
              " ['_', '_', '_', 'G'],\n",
              " ['P', '_', '_', '_']]"
            ]
          },
          "metadata": {},
          "execution_count": 205
        }
      ]
    },
    {
      "cell_type": "code",
      "source": [
        "for route in routes:\n",
        "    routes_next = [route.append(opt) for opt in options]\n",
        "    route = routes"
      ],
      "metadata": {
        "colab": {
          "base_uri": "https://localhost:8080/",
          "height": 222
        },
        "id": "H29rZeT0E0uV",
        "outputId": "5ff302f2-01b2-436a-dfe5-59f1b3a69044"
      },
      "execution_count": null,
      "outputs": [
        {
          "output_type": "error",
          "ename": "KeyError",
          "evalue": "ignored",
          "traceback": [
            "\u001b[0;31m---------------------------------------------------------------------------\u001b[0m",
            "\u001b[0;31mKeyError\u001b[0m                                  Traceback (most recent call last)",
            "\u001b[0;32m<ipython-input-41-5b665f37f917>\u001b[0m in \u001b[0;36m<module>\u001b[0;34m()\u001b[0m\n\u001b[1;32m      1\u001b[0m \u001b[0;32mfor\u001b[0m \u001b[0mroute\u001b[0m \u001b[0;32min\u001b[0m \u001b[0mroutes\u001b[0m\u001b[0;34m:\u001b[0m\u001b[0;34m\u001b[0m\u001b[0;34m\u001b[0m\u001b[0m\n\u001b[0;32m----> 2\u001b[0;31m     \u001b[0moptions\u001b[0m \u001b[0;34m=\u001b[0m \u001b[0mneighbours\u001b[0m\u001b[0;34m[\u001b[0m\u001b[0mroute\u001b[0m\u001b[0;34m[\u001b[0m\u001b[0;34m-\u001b[0m\u001b[0;36m1\u001b[0m\u001b[0;34m]\u001b[0m\u001b[0;34m]\u001b[0m\u001b[0;34m\u001b[0m\u001b[0;34m\u001b[0m\u001b[0m\n\u001b[0m\u001b[1;32m      3\u001b[0m     \u001b[0mroutes\u001b[0m \u001b[0;34m=\u001b[0m \u001b[0;34m[\u001b[0m\u001b[0mroute\u001b[0m\u001b[0;34m.\u001b[0m\u001b[0mappend\u001b[0m\u001b[0;34m(\u001b[0m\u001b[0mopt\u001b[0m\u001b[0;34m)\u001b[0m \u001b[0;32mfor\u001b[0m \u001b[0mopt\u001b[0m \u001b[0;32min\u001b[0m \u001b[0moptions\u001b[0m\u001b[0;34m]\u001b[0m\u001b[0;34m\u001b[0m\u001b[0;34m\u001b[0m\u001b[0m\n\u001b[1;32m      4\u001b[0m     \u001b[0mroute\u001b[0m \u001b[0;34m=\u001b[0m \u001b[0mroutes\u001b[0m\u001b[0;34m\u001b[0m\u001b[0;34m\u001b[0m\u001b[0m\n",
            "\u001b[0;31mKeyError\u001b[0m: 0"
          ]
        }
      ]
    },
    {
      "cell_type": "code",
      "source": [
        "class Tree:\n",
        "    def __init__(self, data, parent = None):\n",
        "        self.parent = parent\n",
        "        self.data = data\n",
        "        self.children = [Tree(i,self.data) for i in neighbours[route.data]]\n",
        "        "
      ],
      "metadata": {
        "id": "85aQI_BEvRpl"
      },
      "execution_count": null,
      "outputs": []
    },
    {
      "cell_type": "code",
      "source": [
        "\n",
        "routes = Tree((0,0))\n",
        "route.children = [Tree(i,route.data) for i in neighbours[route.data]]"
      ],
      "metadata": {
        "colab": {
          "base_uri": "https://localhost:8080/",
          "height": 371
        },
        "id": "uvDhxidUcoXF",
        "outputId": "54e6582a-d3dd-4bcc-ad26-92d161f92666"
      },
      "execution_count": null,
      "outputs": [
        {
          "output_type": "error",
          "ename": "RecursionError",
          "evalue": "ignored",
          "traceback": [
            "\u001b[0;31m---------------------------------------------------------------------------\u001b[0m",
            "\u001b[0;31mRecursionError\u001b[0m                            Traceback (most recent call last)",
            "\u001b[0;32m<ipython-input-66-301614f878f6>\u001b[0m in \u001b[0;36m<module>\u001b[0;34m()\u001b[0m\n\u001b[1;32m      1\u001b[0m \u001b[0;34m\u001b[0m\u001b[0m\n\u001b[0;32m----> 2\u001b[0;31m \u001b[0mroutes\u001b[0m \u001b[0;34m=\u001b[0m \u001b[0mTree\u001b[0m\u001b[0;34m(\u001b[0m\u001b[0;34m(\u001b[0m\u001b[0;36m0\u001b[0m\u001b[0;34m,\u001b[0m\u001b[0;36m0\u001b[0m\u001b[0;34m)\u001b[0m\u001b[0;34m)\u001b[0m\u001b[0;34m\u001b[0m\u001b[0;34m\u001b[0m\u001b[0m\n\u001b[0m\u001b[1;32m      3\u001b[0m \u001b[0mroute\u001b[0m\u001b[0;34m.\u001b[0m\u001b[0mchildren\u001b[0m \u001b[0;34m=\u001b[0m \u001b[0;34m[\u001b[0m\u001b[0mTree\u001b[0m\u001b[0;34m(\u001b[0m\u001b[0mi\u001b[0m\u001b[0;34m,\u001b[0m\u001b[0mroute\u001b[0m\u001b[0;34m.\u001b[0m\u001b[0mdata\u001b[0m\u001b[0;34m)\u001b[0m \u001b[0;32mfor\u001b[0m \u001b[0mi\u001b[0m \u001b[0;32min\u001b[0m \u001b[0mneighbours\u001b[0m\u001b[0;34m[\u001b[0m\u001b[0mroute\u001b[0m\u001b[0;34m.\u001b[0m\u001b[0mdata\u001b[0m\u001b[0;34m]\u001b[0m\u001b[0;34m]\u001b[0m\u001b[0;34m\u001b[0m\u001b[0;34m\u001b[0m\u001b[0m\n",
            "\u001b[0;32m<ipython-input-65-2afcdb3e63e9>\u001b[0m in \u001b[0;36m__init__\u001b[0;34m(self, data, parent)\u001b[0m\n\u001b[1;32m      3\u001b[0m         \u001b[0mself\u001b[0m\u001b[0;34m.\u001b[0m\u001b[0mparent\u001b[0m \u001b[0;34m=\u001b[0m \u001b[0mparent\u001b[0m\u001b[0;34m\u001b[0m\u001b[0;34m\u001b[0m\u001b[0m\n\u001b[1;32m      4\u001b[0m         \u001b[0mself\u001b[0m\u001b[0;34m.\u001b[0m\u001b[0mdata\u001b[0m \u001b[0;34m=\u001b[0m \u001b[0mdata\u001b[0m\u001b[0;34m\u001b[0m\u001b[0;34m\u001b[0m\u001b[0m\n\u001b[0;32m----> 5\u001b[0;31m         \u001b[0mself\u001b[0m\u001b[0;34m.\u001b[0m\u001b[0mchildren\u001b[0m \u001b[0;34m=\u001b[0m \u001b[0;34m[\u001b[0m\u001b[0mTree\u001b[0m\u001b[0;34m(\u001b[0m\u001b[0mi\u001b[0m\u001b[0;34m,\u001b[0m\u001b[0mself\u001b[0m\u001b[0;34m.\u001b[0m\u001b[0mdata\u001b[0m\u001b[0;34m)\u001b[0m \u001b[0;32mfor\u001b[0m \u001b[0mi\u001b[0m \u001b[0;32min\u001b[0m \u001b[0mneighbours\u001b[0m\u001b[0;34m[\u001b[0m\u001b[0mroute\u001b[0m\u001b[0;34m.\u001b[0m\u001b[0mdata\u001b[0m\u001b[0;34m]\u001b[0m\u001b[0;34m]\u001b[0m\u001b[0;34m\u001b[0m\u001b[0;34m\u001b[0m\u001b[0m\n\u001b[0m\u001b[1;32m      6\u001b[0m \u001b[0;34m\u001b[0m\u001b[0m\n",
            "\u001b[0;32m<ipython-input-65-2afcdb3e63e9>\u001b[0m in \u001b[0;36m<listcomp>\u001b[0;34m(.0)\u001b[0m\n\u001b[1;32m      3\u001b[0m         \u001b[0mself\u001b[0m\u001b[0;34m.\u001b[0m\u001b[0mparent\u001b[0m \u001b[0;34m=\u001b[0m \u001b[0mparent\u001b[0m\u001b[0;34m\u001b[0m\u001b[0;34m\u001b[0m\u001b[0m\n\u001b[1;32m      4\u001b[0m         \u001b[0mself\u001b[0m\u001b[0;34m.\u001b[0m\u001b[0mdata\u001b[0m \u001b[0;34m=\u001b[0m \u001b[0mdata\u001b[0m\u001b[0;34m\u001b[0m\u001b[0;34m\u001b[0m\u001b[0m\n\u001b[0;32m----> 5\u001b[0;31m         \u001b[0mself\u001b[0m\u001b[0;34m.\u001b[0m\u001b[0mchildren\u001b[0m \u001b[0;34m=\u001b[0m \u001b[0;34m[\u001b[0m\u001b[0mTree\u001b[0m\u001b[0;34m(\u001b[0m\u001b[0mi\u001b[0m\u001b[0;34m,\u001b[0m\u001b[0mself\u001b[0m\u001b[0;34m.\u001b[0m\u001b[0mdata\u001b[0m\u001b[0;34m)\u001b[0m \u001b[0;32mfor\u001b[0m \u001b[0mi\u001b[0m \u001b[0;32min\u001b[0m \u001b[0mneighbours\u001b[0m\u001b[0;34m[\u001b[0m\u001b[0mroute\u001b[0m\u001b[0;34m.\u001b[0m\u001b[0mdata\u001b[0m\u001b[0;34m]\u001b[0m\u001b[0;34m]\u001b[0m\u001b[0;34m\u001b[0m\u001b[0;34m\u001b[0m\u001b[0m\n\u001b[0m\u001b[1;32m      6\u001b[0m \u001b[0;34m\u001b[0m\u001b[0m\n",
            "... last 2 frames repeated, from the frame below ...\n",
            "\u001b[0;32m<ipython-input-65-2afcdb3e63e9>\u001b[0m in \u001b[0;36m__init__\u001b[0;34m(self, data, parent)\u001b[0m\n\u001b[1;32m      3\u001b[0m         \u001b[0mself\u001b[0m\u001b[0;34m.\u001b[0m\u001b[0mparent\u001b[0m \u001b[0;34m=\u001b[0m \u001b[0mparent\u001b[0m\u001b[0;34m\u001b[0m\u001b[0;34m\u001b[0m\u001b[0m\n\u001b[1;32m      4\u001b[0m         \u001b[0mself\u001b[0m\u001b[0;34m.\u001b[0m\u001b[0mdata\u001b[0m \u001b[0;34m=\u001b[0m \u001b[0mdata\u001b[0m\u001b[0;34m\u001b[0m\u001b[0;34m\u001b[0m\u001b[0m\n\u001b[0;32m----> 5\u001b[0;31m         \u001b[0mself\u001b[0m\u001b[0;34m.\u001b[0m\u001b[0mchildren\u001b[0m \u001b[0;34m=\u001b[0m \u001b[0;34m[\u001b[0m\u001b[0mTree\u001b[0m\u001b[0;34m(\u001b[0m\u001b[0mi\u001b[0m\u001b[0;34m,\u001b[0m\u001b[0mself\u001b[0m\u001b[0;34m.\u001b[0m\u001b[0mdata\u001b[0m\u001b[0;34m)\u001b[0m \u001b[0;32mfor\u001b[0m \u001b[0mi\u001b[0m \u001b[0;32min\u001b[0m \u001b[0mneighbours\u001b[0m\u001b[0;34m[\u001b[0m\u001b[0mroute\u001b[0m\u001b[0;34m.\u001b[0m\u001b[0mdata\u001b[0m\u001b[0;34m]\u001b[0m\u001b[0;34m]\u001b[0m\u001b[0;34m\u001b[0m\u001b[0;34m\u001b[0m\u001b[0m\n\u001b[0m\u001b[1;32m      6\u001b[0m \u001b[0;34m\u001b[0m\u001b[0m\n",
            "\u001b[0;31mRecursionError\u001b[0m: maximum recursion depth exceeded"
          ]
        }
      ]
    },
    {
      "cell_type": "code",
      "source": [
        "cave1"
      ],
      "metadata": {
        "colab": {
          "base_uri": "https://localhost:8080/"
        },
        "id": "pgHIL5CQjhar",
        "outputId": "f1f9ad9c-0f53-4b11-ab00-e1f993717db8"
      },
      "execution_count": null,
      "outputs": [
        {
          "output_type": "execute_result",
          "data": {
            "text/plain": [
              "[['_', '_', '_', '_'],\n",
              " ['_', 'W', '_', '_'],\n",
              " ['_', '_', '_', 'G'],\n",
              " ['P', '_', '_', '_']]"
            ]
          },
          "metadata": {},
          "execution_count": 162
        }
      ]
    },
    {
      "cell_type": "code",
      "source": [
        "route.children[0].parent\n"
      ],
      "metadata": {
        "colab": {
          "base_uri": "https://localhost:8080/"
        },
        "id": "6FdadU88fUP4",
        "outputId": "43fefe14-15ba-48fe-c131-9fe210d3d3eb"
      },
      "execution_count": null,
      "outputs": [
        {
          "output_type": "execute_result",
          "data": {
            "text/plain": [
              "(0, 0)"
            ]
          },
          "metadata": {},
          "execution_count": 62
        }
      ]
    },
    {
      "cell_type": "code",
      "source": [
        "for i in tree:\n",
        "    i.append([neighbours[i[0]]])"
      ],
      "metadata": {
        "id": "s0kbzc5m5y7n"
      },
      "execution_count": null,
      "outputs": []
    },
    {
      "cell_type": "code",
      "source": [
        "tree"
      ],
      "metadata": {
        "colab": {
          "base_uri": "https://localhost:8080/"
        },
        "id": "iI1ItgoY6MvV",
        "outputId": "a9f184e6-89a9-4e2f-b815-fe532f2d7b3f"
      },
      "execution_count": null,
      "outputs": [
        {
          "output_type": "execute_result",
          "data": {
            "text/plain": [
              "[[(1, 0), [[(0, 0), (2, 0)]]], [(0, 1), [[(0, 0), (0, 2)]]]]"
            ]
          },
          "metadata": {},
          "execution_count": 33
        }
      ]
    },
    {
      "cell_type": "code",
      "source": [
        " 8 in [[1,2,3],[2,3],[5,6,8]]"
      ],
      "metadata": {
        "colab": {
          "base_uri": "https://localhost:8080/"
        },
        "id": "3sr3SIdg6aDx",
        "outputId": "81e6cb33-70e5-4905-ce45-99d70c4a1f83"
      },
      "execution_count": null,
      "outputs": [
        {
          "output_type": "execute_result",
          "data": {
            "text/plain": [
              "False"
            ]
          },
          "metadata": {},
          "execution_count": 37
        }
      ]
    },
    {
      "cell_type": "code",
      "source": [
        "any(8 in i for i in [[1,2,3],[2,3],[5,6,8]])"
      ],
      "metadata": {
        "colab": {
          "base_uri": "https://localhost:8080/"
        },
        "id": "fzg-y00O-ZjG",
        "outputId": "4c693ed5-2edc-4f37-b53f-2119b0a5e10e"
      },
      "execution_count": null,
      "outputs": [
        {
          "output_type": "execute_result",
          "data": {
            "text/plain": [
              "True"
            ]
          },
          "metadata": {},
          "execution_count": 38
        }
      ]
    },
    {
      "cell_type": "code",
      "source": [
        ""
      ],
      "metadata": {
        "id": "2Wixm0XI-lIa"
      },
      "execution_count": null,
      "outputs": []
    }
  ]
}