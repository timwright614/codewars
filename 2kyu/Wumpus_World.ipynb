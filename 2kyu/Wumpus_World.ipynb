{
  "nbformat": 4,
  "nbformat_minor": 0,
  "metadata": {
    "colab": {
      "name": "Wumpus_World.ipynb",
      "provenance": [],
      "collapsed_sections": []
    },
    "kernelspec": {
      "name": "python3",
      "display_name": "Python 3"
    },
    "language_info": {
      "name": "python"
    }
  },
  "cells": [
    {
      "cell_type": "code",
      "source": [
        "import random, copy\n",
        "import matplotlib.pyplot as plt\n",
        "from matplotlib import colors\n",
        "import numpy as np\n",
        "from IPython.display import clear_output \n",
        "import time\n",
        "\n"
      ],
      "metadata": {
        "id": "CsS87ZyX-tqX"
      },
      "execution_count": 3,
      "outputs": []
    },
    {
      "cell_type": "code",
      "source": [
        "# https://www.codewars.com/kata/625c70f8a071210030c8e22a"
      ],
      "metadata": {
        "id": "XGC_RbMBOx5t"
      },
      "execution_count": null,
      "outputs": []
    },
    {
      "cell_type": "code",
      "source": [
        "\n",
        "cave1 = [\n",
        "    [*\"____\"],\n",
        "    [*\"_W__\"],\n",
        "    [*\"___G\"],\n",
        "    [*\"P___\"]\n",
        "]\n",
        "\n",
        "        \n",
        "cave2 = [\n",
        "    [*\"____\"],\n",
        "    [*\"_P__\"],\n",
        "    [*\"____\"],\n",
        "    [*\"_W_G\"]\n",
        "]\n",
        "\n",
        "        \n",
        "cave3 = [\n",
        "    [*\"____\"],\n",
        "    [*\"____\"],\n",
        "    [*\"W__P\"],\n",
        "    [*\"__PG\"]\n",
        "]\n",
        "\n",
        "\n",
        "cave4 = [\n",
        "    [*\"__GP\"],\n",
        "    [*\"_P__\"],\n",
        "    [*\"W___\"],\n",
        "    [*\"____\"]\n",
        "]\n",
        "\n",
        "\n",
        "cave5 = [\n",
        "    [*\"__W_\"],\n",
        "    [*\"____\"],\n",
        "    [*\"___P\"],\n",
        "    [*\"___G\"]\n",
        "]\n",
        "\n",
        "\n",
        "cave6 = [\n",
        "    [*\"__W_\"],\n",
        "    [*\"____\"],\n",
        "    [*\"__PP\"],\n",
        "    [*\"___G\"]\n",
        "]\n",
        "\n",
        "\n",
        "cave7 = [\n",
        "    [*\"__W_\"],\n",
        "    [*\"____\"],\n",
        "    [*\"_PPP\"],\n",
        "    [*\"___G\"]\n",
        "]\n",
        "\n",
        "\n",
        "cave8 = [\n",
        "    [*\"___P\"],\n",
        "    [*\"__PG\"],\n",
        "    [*\"___P\"],\n",
        "    [*\"W___\"]\n",
        "]\n",
        "\n",
        "\n",
        "cave9 = [\n",
        "    [*\"__P_\"],\n",
        "    [*\"____\"],\n",
        "    [*\"__P_\"],\n",
        "    [*\"__WG\"]\n",
        "]\n",
        "\n",
        "\n",
        "cave10 = [\n",
        "    [*\"____\"],\n",
        "    [*\"__PW\"],\n",
        "    [*\"PG__\"],\n",
        "    [*\"____\"]\n",
        "]\n",
        "\n",
        "\n",
        "cave11 = [\n",
        "    [*\"__P_\"],\n",
        "    [*\"____\"],\n",
        "    [*\"WP__\"],\n",
        "    [*\"_G__\"]\n",
        "]\n",
        "\n",
        "\n",
        "cave12 = [\n",
        "    [*\"__PG\"],\n",
        "    [*\"____\"],\n",
        "    [*\"__WP\"],\n",
        "    [*\"____\"]\n",
        "]\n",
        "\n",
        "\n",
        "cave13 = [\n",
        "    [*\"___W\"],\n",
        "    [*\"__P_\"],\n",
        "    [*\"__G_\"],\n",
        "    [*\"P___\"]\n",
        "]\n",
        "\n",
        "\n",
        "cave14 = [\n",
        "    [*\"__WP\"],\n",
        "    [*\"_P__\"],\n",
        "    [*\"____\"],\n",
        "    [*\"_G__\"]\n",
        "]\n",
        "\n",
        "\n",
        "cave15 = [\n",
        "    [*\"__WP\"],\n",
        "    [*\"____\"],\n",
        "    [*\"__P_\"],\n",
        "    [*\"P_G_\"]\n",
        "]\n",
        "\n",
        "\n",
        "cave16 = [\n",
        "    [*\"__PG\"],\n",
        "    [*\"___W\"],\n",
        "    [*\"__PP\"],\n",
        "    [*\"____\"]\n",
        "]\n"
      ],
      "metadata": {
        "id": "vk8IfbvHPf5W"
      },
      "execution_count": 4,
      "outputs": []
    },
    {
      "cell_type": "code",
      "source": [
        "#takes a cave system as an input and creates a list for each cave room, \n",
        "#including all senses available in those rooms, nominated by a lower case of the\n",
        "#relevant feature being sensed\n",
        "\n",
        "def true_cave(cave):\n",
        "    true_cave = [[[] for i in range(4)] for i in range(4)]\n",
        "    for j in range(4):\n",
        "        for i in range(4):\n",
        "            if cave[j][i] != '_':\n",
        "                true_cave[j][i].append(cave[j][i])\n",
        "            neighbours = get_neighbours(j,i)\n",
        "            for neighbour in neighbours:\n",
        "                if cave[neighbour[0]][neighbour[1]] in [X for X in ['W','P'] if X.lower() not in true_cave[j][i]]:\n",
        "                    true_cave[j][i].append((cave[neighbour[0]][neighbour[1]]).lower())\n",
        "    return true_cave"
      ],
      "metadata": {
        "id": "n7kjZlZ0U0IU"
      },
      "execution_count": 5,
      "outputs": []
    },
    {
      "cell_type": "code",
      "source": [
        "def get_neighbours(y,x,grid):\n",
        "    #lists neighbour squares for a given square\n",
        "\n",
        "    neighbours = []\n",
        "\n",
        "    for i in [-1,1]:\n",
        "        \n",
        "        if -1 < y + i < len(grid):\n",
        "            neighbours.append((y + i, x))\n",
        "        if -1 < x + i < len(grid[0]):\n",
        "            neighbours.append((y, x + i))\n",
        "        \n",
        "    return(neighbours)"
      ],
      "metadata": {
        "id": "FnEu4w-4VmfI"
      },
      "execution_count": 6,
      "outputs": []
    },
    {
      "cell_type": "code",
      "source": [
        "def navigable_neighbours(grid):\n",
        "    #lists navigable squares for a grid and lists navigable neighbours as a dic\n",
        "    #for each address\n",
        "    navigable = []\n",
        "    neighbours = {}\n",
        "    for y in range(len(grid)):\n",
        "        for x in range(len(grid[0])):\n",
        "            if grid[y][x] == '_':\n",
        "                navigable.append((y,x))\n",
        "                neighbours[(y,x)] = [loc for loc in get_neighbours(y,x,grid) if grid[loc[0]][loc[1]] == '_']\n",
        "\n",
        "    return navigable, neighbours"
      ],
      "metadata": {
        "id": "IQ9KPoA5uYXO"
      },
      "execution_count": 8,
      "outputs": []
    },
    {
      "cell_type": "code",
      "source": [
        ""
      ],
      "metadata": {
        "id": "w4AfNrFXPTn8"
      },
      "execution_count": null,
      "outputs": []
    },
    {
      "cell_type": "markdown",
      "source": [
        "It occurs to me that this should be solvable by assessing grids against a set of rules that will determine solvability. Out of interest I am now investigating creating an algorithm that solves the puzzle, step by step, displaying the action in real time. It seems to me that being able to navigate through known safe areas from a to b will be useful and interesting to investigate.  "
      ],
      "metadata": {
        "id": "_hJPWYR1PVPB"
      }
    },
    {
      "cell_type": "code",
      "source": [
        "def navigate(start, end, grid):\n",
        "    #generates a list of coordinates that represent a sequential path between \n",
        "    #navigable points\n",
        "    \n",
        "    neighbours = navigable_neighbours(grid)[1]\n",
        "\n",
        "    active_routes = [[start]]\n",
        "    \n",
        "    for i in neighbours.values():\n",
        "        if start in i:\n",
        "            i.remove(start)\n",
        "    \n",
        "    primary_routes = []\n",
        "\n",
        "    progressing = True\n",
        "    while progressing:\n",
        "\n",
        "        progressing = False\n",
        "        route_progression = []\n",
        "\n",
        "        for route in active_routes:\n",
        "            options = neighbours[route[-1]].copy()\n",
        "            if options == []:\n",
        "                primary_routes.append(route)\n",
        "            else:\n",
        "                progressing = True\n",
        "\n",
        "\n",
        "            for opt in options:\n",
        "                \n",
        "                route_seed = route.copy()\n",
        "                route_seed.append(opt)\n",
        "                route_progression.append(route_seed)\n",
        "                \n",
        "                for i in neighbours.values():\n",
        "                    if opt in i:\n",
        "                        i.remove(opt) \n",
        "\n",
        "        active_routes = route_progression\n",
        "\n",
        "    primary_routes.extend(route_progression)\n",
        "\n",
        "    for i in primary_routes:\n",
        "        if end in i:\n",
        "            for j in range(len(i)):\n",
        "                if i[j] == end:\n",
        "                    return i[:j+1]"
      ],
      "metadata": {
        "id": "537F-TxSzSbV"
      },
      "execution_count": 10,
      "outputs": []
    },
    {
      "cell_type": "code",
      "source": [
        "def generate_grid(height, width, barrier_rate):\n",
        "\n",
        "    # generates a wumpus world style grid (list of lists) of specified \n",
        "    #dimensions with a certain rate (in % terms) of wumpus world style \n",
        "    #obstructions, '-' being passable, 'W' being impassable   \n",
        "\n",
        "    limiting = width\n",
        "\n",
        "    if width > height:\n",
        "        limiting = height\n",
        "\n",
        "    if barrier_rate > 40:\n",
        "        barrier_rate = 40\n",
        "\n",
        "    grid = [['_' for x in range(width)] for y in range(height)]\n",
        "\n",
        "    for y in range(len(grid)):\n",
        "        for x in range(len(grid[0])):\n",
        "            barrier = random.randint(1,100//barrier_rate)\n",
        "            if barrier == 1:\n",
        "                barrier_len = random.randint(1,limiting/2)\n",
        "                barrier_orient = random.randint(0,1)\n",
        "                if barrier_orient == 0:\n",
        "                    if barrier_len > len(grid[0]) - x:\n",
        "                        barrier_len = len(grid[0]) - x\n",
        "                    grid[y][x:x+barrier_len] = ['W' for i in range(barrier_len)]\n",
        "                else:\n",
        "                    if barrier_len > len(grid) - y:\n",
        "                        barrier_len = len(grid) - y\n",
        "                    for j in range(barrier_len):\n",
        "                        grid[y+j][x] = 'W'\n",
        "    return grid"
      ],
      "metadata": {
        "id": "2Wixm0XI-lIa"
      },
      "execution_count": 11,
      "outputs": []
    },
    {
      "cell_type": "code",
      "source": [
        "def convert_grid(grid):\n",
        "    #converts a wumpus world sytle grid into one with integer values for colour\n",
        "    # display\n",
        "\n",
        "    grid_out = []\n",
        "\n",
        "    map_dict = {'_':0, 'W':1}\n",
        "\n",
        "    for i in grid:\n",
        "        row = [map_dict[j] for j in i]\n",
        "        grid_out.append(row)\n",
        "    \n",
        "    return grid_out"
      ],
      "metadata": {
        "id": "-E_7VE5N-UQd"
      },
      "execution_count": 14,
      "outputs": []
    },
    {
      "cell_type": "code",
      "source": [
        "def show_grid(grid, figsize):\n",
        "\n",
        "    #displays coloured grid with coordinates as axis labels\n",
        "\n",
        "    cmap = cmap = colors.ListedColormap(['LightGrey', 'coral', 'LawnGreen'])\n",
        "    fig, ax = plt.subplots(figsize = (10,10))\n",
        "    bounds = [0,0.5,1.5,2]\n",
        "    norm = colors.BoundaryNorm(bounds, cmap.N)\n",
        "    ax.grid(which='major', axis='both', linestyle='-', color='k', linewidth=1)\n",
        "    ax.set_xticks(ticks = np.arange(-.5, len(grid[0]), 1));\n",
        "    ax.set_yticks(np.arange(-.5, len(grid), 1));\n",
        "    ax.tick_params(labelbottom=True,labelleft=True, labeltop = True, labelright = True)\n",
        "    ax.set_xticklabels(range(0,len(grid[0])))\n",
        "    ax.set_yticklabels(range(0,len(grid)))\n",
        "    ax.imshow(grid, cmap=cmap, norm=norm)\n",
        "    plt.show()"
      ],
      "metadata": {
        "id": "hR9HbaY5VZA2"
      },
      "execution_count": 39,
      "outputs": []
    },
    {
      "cell_type": "code",
      "source": [
        "def show_path(start, end, grid, reduce_steps = True):\n",
        "    #with a chosen start and end point, displays a progressive path accross a \n",
        "    #grid if navigable\n",
        "    \n",
        "    path = navigate(start, end, grid)\n",
        "\n",
        "    grid_path = convert_grid(grid)\n",
        "\n",
        "    grid_path[start[0]][start[1]] = 2\n",
        "    grid_path[end[0]][end[1]] = 2\n",
        "    \n",
        "    display_steps = list(np.linspace(0,1,10))\n",
        "    cycle = 0\n",
        "    \n",
        "    if reduce_steps and len(path) > 11:\n",
        "    \n",
        "        for i in range(len(path)):\n",
        "\n",
        "            cycle += 1\n",
        "\n",
        "            clear_output(wait=True)\n",
        "            grid_path[path[i][0]][path[i][1]] = 2\n",
        "\n",
        "            if cycle/len(path) >= display_steps[0]:\n",
        "                display_steps.pop(0)\n",
        "                show_grid(grid_path,(15,15))\n",
        "\n",
        "    else:\n",
        "\n",
        "        for i in range(len(path)):\n",
        "\n",
        "            clear_output(wait=True)\n",
        "            grid_path[path[i][0]][path[i][1]] = 2\n",
        "            show_grid(grid_path,(15,15))"
      ],
      "metadata": {
        "id": "VvvxnFRpNL4f"
      },
      "execution_count": 98,
      "outputs": []
    },
    {
      "cell_type": "code",
      "source": [
        ""
      ],
      "metadata": {
        "id": "BHTptvuAD2-G"
      },
      "execution_count": 21,
      "outputs": []
    },
    {
      "cell_type": "code",
      "source": [
        "height = 50\n",
        "width = 50\n",
        "barrier_rate = 4 \n",
        "\n",
        "figsize = (20,20)\n",
        "\n",
        "grid = generate_grid(height,width,barrier_rate)\n",
        "display_grid = convert_grid(grid)\n",
        "show_grid(display_grid,figsize)"
      ],
      "metadata": {
        "colab": {
          "base_uri": "https://localhost:8080/",
          "height": 609
        },
        "id": "6NCYwrNeEzD9",
        "outputId": "5200bba2-a247-4b44-b819-d0058bd2d6cf"
      },
      "execution_count": 59,
      "outputs": [
        {
          "output_type": "display_data",
          "data": {
            "text/plain": [
              "<Figure size 720x720 with 1 Axes>"
            ],
            "image/png": "[encoded data removed]"
          },
          "metadata": {
            "needs_background": "light"
          }
        }
      ]
    },
    {
      "cell_type": "code",
      "source": [
        "start = (0,48)\n",
        "end = (47,2)\n",
        "show_path(start, end, grid)"
      ],
      "metadata": {
        "colab": {
          "base_uri": "https://localhost:8080/",
          "height": 609
        },
        "id": "-tVy-JtuLw0I",
        "outputId": "b73e7028-159c-437d-dd32-bccfab2713f1"
      },
      "execution_count": 99,
      "outputs": [
        {
          "output_type": "display_data",
          "data": {
            "text/plain": [
              "<Figure size 720x720 with 1 Axes>"
            ],
            "image/png": "[encoded data removed]"
          },
          "metadata": {
            "needs_background": "light"
          }
        }
      ]
    },
    {
      "cell_type": "code",
      "source": [
        "grid path"
      ],
      "metadata": {
        "colab": {
          "base_uri": "https://localhost:8080/",
          "height": 133
        },
        "id": "R2sc2CjqVFHu",
        "outputId": "b3b830f8-3b7d-4c11-ef10-54e5c180259c"
      },
      "execution_count": 85,
      "outputs": [
        {
          "output_type": "error",
          "ename": "SyntaxError",
          "evalue": "ignored",
          "traceback": [
            "\u001b[0;36m  File \u001b[0;32m\"<ipython-input-85-d318bf4389bd>\"\u001b[0;36m, line \u001b[0;32m1\u001b[0m\n\u001b[0;31m    grid path\u001b[0m\n\u001b[0m            ^\u001b[0m\n\u001b[0;31mSyntaxError\u001b[0m\u001b[0;31m:\u001b[0m invalid syntax\n"
          ]
        }
      ]
    },
    {
      "cell_type": "code",
      "source": [
        "13/10"
      ],
      "metadata": {
        "colab": {
          "base_uri": "https://localhost:8080/"
        },
        "id": "t0n-VJEnVb-1",
        "outputId": "23373af8-f152-4f8d-d441-25bf5cb695d8"
      },
      "execution_count": 71,
      "outputs": [
        {
          "output_type": "execute_result",
          "data": {
            "text/plain": [
              "1.3"
            ]
          },
          "metadata": {},
          "execution_count": 71
        }
      ]
    },
    {
      "cell_type": "code",
      "source": [
        "list(np.linspace(.1,1,10)).pop(0)\n"
      ],
      "metadata": {
        "colab": {
          "base_uri": "https://localhost:8080/"
        },
        "id": "8u7pUOBEmPUq",
        "outputId": "b197673d-8756-4e65-db0f-313d709671a4"
      },
      "execution_count": 80,
      "outputs": [
        {
          "output_type": "execute_result",
          "data": {
            "text/plain": [
              "0.1"
            ]
          },
          "metadata": {},
          "execution_count": 80
        }
      ]
    },
    {
      "cell_type": "code",
      "source": [
        ""
      ],
      "metadata": {
        "id": "XVC_iaZwmbHS"
      },
      "execution_count": null,
      "outputs": []
    }
  ]
}