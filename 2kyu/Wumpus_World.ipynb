{
  "nbformat": 4,
  "nbformat_minor": 0,
  "metadata": {
    "colab": {
      "name": "Wumpus_World.ipynb",
      "provenance": [],
      "collapsed_sections": []
    },
    "kernelspec": {
      "name": "python3",
      "display_name": "Python 3"
    },
    "language_info": {
      "name": "python"
    }
  },
  "cells": [
    {
      "cell_type": "code",
      "source": [
        "import random, copy\n",
        "\n"
      ],
      "metadata": {
        "id": "CsS87ZyX-tqX"
      },
      "execution_count": 143,
      "outputs": []
    },
    {
      "cell_type": "code",
      "source": [
        "\n",
        "cave1 = [\n",
        "    [*\"____\"],\n",
        "    [*\"_W__\"],\n",
        "    [*\"___G\"],\n",
        "    [*\"P___\"]\n",
        "]\n",
        "\n",
        "        \n",
        "cave2 = [\n",
        "    [*\"____\"],\n",
        "    [*\"_P__\"],\n",
        "    [*\"____\"],\n",
        "    [*\"_W_G\"]\n",
        "]\n",
        "\n",
        "        \n",
        "cave3 = [\n",
        "    [*\"____\"],\n",
        "    [*\"____\"],\n",
        "    [*\"W__P\"],\n",
        "    [*\"__PG\"]\n",
        "]\n",
        "\n",
        "\n",
        "cave4 = [\n",
        "    [*\"__GP\"],\n",
        "    [*\"_P__\"],\n",
        "    [*\"W___\"],\n",
        "    [*\"____\"]\n",
        "]\n",
        "\n",
        "\n",
        "cave5 = [\n",
        "    [*\"__W_\"],\n",
        "    [*\"____\"],\n",
        "    [*\"___P\"],\n",
        "    [*\"___G\"]\n",
        "]\n",
        "\n",
        "\n",
        "cave6 = [\n",
        "    [*\"__W_\"],\n",
        "    [*\"____\"],\n",
        "    [*\"__PP\"],\n",
        "    [*\"___G\"]\n",
        "]\n",
        "\n",
        "\n",
        "cave7 = [\n",
        "    [*\"__W_\"],\n",
        "    [*\"____\"],\n",
        "    [*\"_PPP\"],\n",
        "    [*\"___G\"]\n",
        "]\n",
        "\n",
        "\n",
        "cave8 = [\n",
        "    [*\"___P\"],\n",
        "    [*\"__PG\"],\n",
        "    [*\"___P\"],\n",
        "    [*\"W___\"]\n",
        "]\n",
        "\n",
        "\n",
        "cave9 = [\n",
        "    [*\"__P_\"],\n",
        "    [*\"____\"],\n",
        "    [*\"__P_\"],\n",
        "    [*\"__WG\"]\n",
        "]\n",
        "\n",
        "\n",
        "cave10 = [\n",
        "    [*\"____\"],\n",
        "    [*\"__PW\"],\n",
        "    [*\"PG__\"],\n",
        "    [*\"____\"]\n",
        "]\n",
        "\n",
        "\n",
        "cave11 = [\n",
        "    [*\"__P_\"],\n",
        "    [*\"____\"],\n",
        "    [*\"WP__\"],\n",
        "    [*\"_G__\"]\n",
        "]\n",
        "\n",
        "\n",
        "cave12 = [\n",
        "    [*\"__PG\"],\n",
        "    [*\"____\"],\n",
        "    [*\"__WP\"],\n",
        "    [*\"____\"]\n",
        "]\n",
        "\n",
        "\n",
        "cave13 = [\n",
        "    [*\"___W\"],\n",
        "    [*\"__P_\"],\n",
        "    [*\"__G_\"],\n",
        "    [*\"P___\"]\n",
        "]\n",
        "\n",
        "\n",
        "cave14 = [\n",
        "    [*\"__WP\"],\n",
        "    [*\"_P__\"],\n",
        "    [*\"____\"],\n",
        "    [*\"_G__\"]\n",
        "]\n",
        "\n",
        "\n",
        "cave15 = [\n",
        "    [*\"__WP\"],\n",
        "    [*\"____\"],\n",
        "    [*\"__P_\"],\n",
        "    [*\"P_G_\"]\n",
        "]\n",
        "\n",
        "\n",
        "cave16 = [\n",
        "    [*\"__PG\"],\n",
        "    [*\"___W\"],\n",
        "    [*\"__PP\"],\n",
        "    [*\"____\"]\n",
        "]\n"
      ],
      "metadata": {
        "id": "vk8IfbvHPf5W"
      },
      "execution_count": 4,
      "outputs": []
    },
    {
      "cell_type": "code",
      "source": [
        "def true_cave(cave):\n",
        "    true_cave = [[[] for i in range(4)] for i in range(4)]\n",
        "    for j in range(4):\n",
        "        for i in range(4):\n",
        "            if cave[j][i] != '_':\n",
        "                true_cave[j][i].append(cave[j][i])\n",
        "            neighbours = get_neighbours(j,i)\n",
        "            for neighbour in neighbours:\n",
        "                if cave[neighbour[0]][neighbour[1]] in [X for X in ['W','P'] if X.lower() not in true_cave[j][i]]:\n",
        "                    true_cave[j][i].append((cave[neighbour[0]][neighbour[1]]).lower())\n",
        "    return true_cave"
      ],
      "metadata": {
        "id": "n7kjZlZ0U0IU"
      },
      "execution_count": null,
      "outputs": []
    },
    {
      "cell_type": "code",
      "source": [
        "def get_neighbours(y,x,grid):\n",
        "\n",
        "    neighbours = []\n",
        "\n",
        "    for i in [-1,1]:\n",
        "        \n",
        "        if -1 < y + i < len(grid):\n",
        "            neighbours.append((y + i, x))\n",
        "        if -1 < x + i < len(grid[0]):\n",
        "            neighbours.append((y, x + i))\n",
        "        \n",
        "    return(neighbours)"
      ],
      "metadata": {
        "id": "FnEu4w-4VmfI"
      },
      "execution_count": 76,
      "outputs": []
    },
    {
      "cell_type": "code",
      "source": [
        "cave1"
      ],
      "metadata": {
        "colab": {
          "base_uri": "https://localhost:8080/"
        },
        "id": "2ZZFBpCrR7-y",
        "outputId": "138fb963-6bdd-4ebe-948c-7f6bec53d1fe"
      },
      "execution_count": null,
      "outputs": [
        {
          "output_type": "execute_result",
          "data": {
            "text/plain": [
              "[['_', '_', '_', '_'],\n",
              " ['_', 'W', '_', '_'],\n",
              " ['_', '_', '_', 'G'],\n",
              " ['P', '_', '_', '_']]"
            ]
          },
          "metadata": {},
          "execution_count": 7
        }
      ]
    },
    {
      "cell_type": "code",
      "source": [
        "def navigable_neighbours(grid):\n",
        "\n",
        "    navigable = []\n",
        "    neighbours = {}\n",
        "    for y in range(len(grid)):\n",
        "        for x in range(len(grid[0])):\n",
        "            if grid[y][x] == '_':\n",
        "                navigable.append((y,x))\n",
        "                neighbours[(y,x)] = [loc for loc in get_neighbours(y,x,grid) if grid[loc[0]][loc[1]] == '_']\n",
        "\n",
        "    return navigable, neighbours"
      ],
      "metadata": {
        "id": "IQ9KPoA5uYXO"
      },
      "execution_count": 78,
      "outputs": []
    },
    {
      "cell_type": "code",
      "source": [
        "get_neighbours(3,13,grid)"
      ],
      "metadata": {
        "colab": {
          "base_uri": "https://localhost:8080/"
        },
        "id": "xATNVsvRNrrN",
        "outputId": "c403d0e1-9234-4aa8-ea47-71aad8ad6e88"
      },
      "execution_count": 77,
      "outputs": [
        {
          "output_type": "execute_result",
          "data": {
            "text/plain": [
              "[(2, 13), (3, 12), (4, 13)]"
            ]
          },
          "metadata": {},
          "execution_count": 77
        }
      ]
    },
    {
      "cell_type": "code",
      "source": [
        "grid"
      ],
      "metadata": {
        "colab": {
          "base_uri": "https://localhost:8080/"
        },
        "id": "EO6UYK-zw58T",
        "outputId": "553447a9-9d35-46f4-d0e6-8287584f41c5"
      },
      "execution_count": 74,
      "outputs": [
        {
          "output_type": "execute_result",
          "data": {
            "text/plain": [
              "[['_', '_', '_', '_', '_', '_', '_', '_', '_', '_', '_', '_', '_', '_'],\n",
              " ['_', '_', '_', '_', '_', '_', '_', '_', '_', '_', 'W', 'W', 'W', 'W'],\n",
              " ['_', '_', '_', '_', '_', '_', '_', '_', '_', '_', '_', '_', '_', '_'],\n",
              " ['_', '_', '_', '_', '_', '_', '_', '_', '_', '_', '_', '_', '_', '_'],\n",
              " ['_', '_', '_', '_', '_', '_', '_', '_', '_', '_', '_', '_', '_', '_'],\n",
              " ['_', '_', '_', '_', '_', '_', '_', '_', '_', '_', '_', '_', '_', '_'],\n",
              " ['_', '_', '_', '_', '_', '_', '_', '_', '_', '_', '_', '_', '_', '_'],\n",
              " ['_', '_', '_', '_', '_', '_', '_', '_', '_', '_', '_', '_', '_', '_'],\n",
              " ['W', '_', '_', '_', '_', '_', '_', '_', '_', '_', '_', '_', '_', '_'],\n",
              " ['W', '_', '_', '_', '_', '_', '_', '_', '_', '_', '_', '_', '_', '_'],\n",
              " ['W', 'W', '_', '_', '_', '_', '_', '_', '_', '_', '_', '_', '_', '_'],\n",
              " ['W', 'W', '_', '_', '_', '_', '_', 'W', '_', '_', '_', '_', '_', '_'],\n",
              " ['W', 'W', '_', '_', '_', '_', 'W', 'W', '_', '_', '_', '_', '_', '_'],\n",
              " ['W', 'W', '_', '_', '_', '_', '_', 'W', '_', '_', '_', '_', '_', '_'],\n",
              " ['W', 'W', '_', '_', '_', '_', '_', 'W', '_', '_', '_', '_', '_', '_'],\n",
              " ['W', 'W', '_', '_', '_', '_', '_', 'W', '_', '_', '_', '_', '_', '_'],\n",
              " ['W', 'W', '_', '_', '_', '_', '_', 'W', '_', '_', '_', '_', '_', '_'],\n",
              " ['W', '_', '_', '_', '_', '_', '_', '_', '_', '_', '_', '_', '_', '_'],\n",
              " ['_', '_', '_', '_', '_', '_', '_', '_', '_', '_', '_', '_', '_', '_'],\n",
              " ['_', '_', '_', '_', '_', '_', '_', '_', '_', '_', '_', '_', '_', '_']]"
            ]
          },
          "metadata": {},
          "execution_count": 74
        }
      ]
    },
    {
      "cell_type": "code",
      "source": [
        "def navigate(start, end, grid):\n",
        "    \n",
        "    neighbours = navigable_neighbours(grid)[1]\n",
        "\n",
        "    active_routes = [[start]]\n",
        "    \n",
        "    for i in neighbours.values():\n",
        "        if start in i:\n",
        "            i.remove(start)\n",
        "    \n",
        "    primary_routes = []\n",
        "\n",
        "    while any ([i != [] for i in neighbours.values()]):\n",
        "\n",
        "        route_progression = []\n",
        "\n",
        "        for route in active_routes:\n",
        "            options = neighbours[route[-1]].copy()\n",
        "            if options == []:\n",
        "                primary_routes.append(route)\n",
        "\n",
        "            for opt in options:\n",
        "                \n",
        "                route_seed = route.copy()\n",
        "                route_seed.append(opt)\n",
        "                route_progression.append(route_seed)\n",
        "                \n",
        "                for i in neighbours.values():\n",
        "                    if opt in i:\n",
        "                        i.remove(opt) \n",
        "\n",
        "        active_routes = route_progression\n",
        "\n",
        "    primary_routes.extend(route_progression)\n",
        "\n",
        "    for i in primary_routes:\n",
        "        if end in i:\n",
        "            for j in range(len(i)):\n",
        "                if i[j] == end:\n",
        "                    return i[:j+1]"
      ],
      "metadata": {
        "id": "537F-TxSzSbV"
      },
      "execution_count": 79,
      "outputs": []
    },
    {
      "cell_type": "code",
      "source": [
        "what"
      ],
      "metadata": {
        "colab": {
          "base_uri": "https://localhost:8080/"
        },
        "id": "VLCmhPokyTS6",
        "outputId": "1bf2e80e-e2e8-41f8-eff5-1f167ca3c8dc"
      },
      "execution_count": null,
      "outputs": [
        {
          "output_type": "execute_result",
          "data": {
            "text/plain": [
              "[[(0, 0), (0, 1), (0, 2), (0, 3)],\n",
              " [(0, 0), (1, 0), (2, 0), (2, 1), (2, 2)],\n",
              " [(0, 0), (0, 1), (0, 2), (1, 2), (1, 3)],\n",
              " [(0, 0), (1, 0), (2, 0), (2, 1), (3, 1), (3, 2), (3, 3)]]"
            ]
          },
          "metadata": {},
          "execution_count": 203
        }
      ]
    },
    {
      "cell_type": "code",
      "source": [
        "start = (0,0)\n",
        "end = (1,2)\n",
        "navigate(start, end, cave1)"
      ],
      "metadata": {
        "colab": {
          "base_uri": "https://localhost:8080/"
        },
        "id": "7wxg5KT8nx1S",
        "outputId": "43c92ed5-c2cc-469c-e75c-f7962374fec1"
      },
      "execution_count": 38,
      "outputs": [
        {
          "output_type": "execute_result",
          "data": {
            "text/plain": [
              "[(0, 0), (0, 1), (0, 2), (1, 2)]"
            ]
          },
          "metadata": {},
          "execution_count": 38
        }
      ]
    },
    {
      "cell_type": "code",
      "source": [
        "cave1"
      ],
      "metadata": {
        "colab": {
          "base_uri": "https://localhost:8080/"
        },
        "id": "CwDd0OyInSEl",
        "outputId": "29c0569b-863e-49f3-fda2-b0ae5ae1bd8d"
      },
      "execution_count": null,
      "outputs": [
        {
          "output_type": "execute_result",
          "data": {
            "text/plain": [
              "[['_', '_', '_', '_'],\n",
              " ['_', 'W', '_', '_'],\n",
              " ['_', '_', '_', 'G'],\n",
              " ['P', '_', '_', '_']]"
            ]
          },
          "metadata": {},
          "execution_count": 205
        }
      ]
    },
    {
      "cell_type": "code",
      "source": [
        "cave1"
      ],
      "metadata": {
        "colab": {
          "base_uri": "https://localhost:8080/"
        },
        "id": "pgHIL5CQjhar",
        "outputId": "f1f9ad9c-0f53-4b11-ab00-e1f993717db8"
      },
      "execution_count": null,
      "outputs": [
        {
          "output_type": "execute_result",
          "data": {
            "text/plain": [
              "[['_', '_', '_', '_'],\n",
              " ['_', 'W', '_', '_'],\n",
              " ['_', '_', '_', 'G'],\n",
              " ['P', '_', '_', '_']]"
            ]
          },
          "metadata": {},
          "execution_count": 162
        }
      ]
    },
    {
      "cell_type": "code",
      "source": [
        "route.children[0].parent\n"
      ],
      "metadata": {
        "colab": {
          "base_uri": "https://localhost:8080/"
        },
        "id": "6FdadU88fUP4",
        "outputId": "43fefe14-15ba-48fe-c131-9fe210d3d3eb"
      },
      "execution_count": null,
      "outputs": [
        {
          "output_type": "execute_result",
          "data": {
            "text/plain": [
              "(0, 0)"
            ]
          },
          "metadata": {},
          "execution_count": 62
        }
      ]
    },
    {
      "cell_type": "code",
      "source": [
        "for i in tree:\n",
        "    i.append([neighbours[i[0]]])"
      ],
      "metadata": {
        "id": "s0kbzc5m5y7n"
      },
      "execution_count": null,
      "outputs": []
    },
    {
      "cell_type": "code",
      "source": [
        "tree"
      ],
      "metadata": {
        "colab": {
          "base_uri": "https://localhost:8080/"
        },
        "id": "iI1ItgoY6MvV",
        "outputId": "a9f184e6-89a9-4e2f-b815-fe532f2d7b3f"
      },
      "execution_count": null,
      "outputs": [
        {
          "output_type": "execute_result",
          "data": {
            "text/plain": [
              "[[(1, 0), [[(0, 0), (2, 0)]]], [(0, 1), [[(0, 0), (0, 2)]]]]"
            ]
          },
          "metadata": {},
          "execution_count": 33
        }
      ]
    },
    {
      "cell_type": "code",
      "source": [
        " 8 in [[1,2,3],[2,3],[5,6,8]]"
      ],
      "metadata": {
        "colab": {
          "base_uri": "https://localhost:8080/"
        },
        "id": "3sr3SIdg6aDx",
        "outputId": "81e6cb33-70e5-4905-ce45-99d70c4a1f83"
      },
      "execution_count": null,
      "outputs": [
        {
          "output_type": "execute_result",
          "data": {
            "text/plain": [
              "False"
            ]
          },
          "metadata": {},
          "execution_count": 37
        }
      ]
    },
    {
      "cell_type": "code",
      "source": [
        "any(8 in i for i in [[1,2,3],[2,3],[5,6,8]])"
      ],
      "metadata": {
        "colab": {
          "base_uri": "https://localhost:8080/"
        },
        "id": "fzg-y00O-ZjG",
        "outputId": "4c693ed5-2edc-4f37-b53f-2119b0a5e10e"
      },
      "execution_count": null,
      "outputs": [
        {
          "output_type": "execute_result",
          "data": {
            "text/plain": [
              "True"
            ]
          },
          "metadata": {},
          "execution_count": 38
        }
      ]
    },
    {
      "cell_type": "code",
      "source": [
        "def generate_grid(height, width, barrier_rate):\n",
        "\n",
        "    if barrier_rate > 40:\n",
        "        barrier_rate = 40\n",
        "\n",
        "    grid = [['_' for x in range(width)] for y in range(height)]\n",
        "\n",
        "    for y in range(len(grid)):\n",
        "        for x in range(len(grid[0])):\n",
        "            barrier = random.randint(1,100//barrier_rate)\n",
        "            if barrier == 1:\n",
        "                barrier_len = random.randint(1,10)\n",
        "                barrier_orient = random.randint(0,1)\n",
        "                if barrier_orient == 0:\n",
        "                    if barrier_len > len(grid[0]) - x:\n",
        "                        barrier_len = len(grid[0]) - x\n",
        "                    grid[y][x:x+barrier_len] = ['W' for i in range(barrier_len)]\n",
        "                else:\n",
        "                    if barrier_len > len(grid) - y:\n",
        "                        barrier_len = len(grid) - y\n",
        "                    for j in range(barrier_len):\n",
        "                        grid[y+j][x] = 'W'\n",
        "    return grid"
      ],
      "metadata": {
        "id": "2Wixm0XI-lIa"
      },
      "execution_count": 60,
      "outputs": []
    },
    {
      "cell_type": "code",
      "source": [
        "def show_path(start, end, grid):\n",
        "\n",
        "    path = navigate(start, end, grid)\n",
        "\n",
        "    grid_path = copy.deepcopy(grid)\n",
        "\n",
        "    for coord in path:\n",
        "        grid_path[coord[0]][coord[1]] = 'P'\n",
        "\n",
        "    return grid_path"
      ],
      "metadata": {
        "id": "VvvxnFRpNL4f"
      },
      "execution_count": 144,
      "outputs": []
    },
    {
      "cell_type": "code",
      "source": [
        "grid = generate_grid(20,12,10)\n",
        "grid"
      ],
      "metadata": {
        "colab": {
          "base_uri": "https://localhost:8080/"
        },
        "id": "QV5IdCtaNTo1",
        "outputId": "c2b86a3a-988b-4193-e2b5-1c7afed19885"
      },
      "execution_count": 147,
      "outputs": [
        {
          "output_type": "execute_result",
          "data": {
            "text/plain": [
              "[['_', '_', '_', '_', '_', '_', '_', '_', '_', '_', '_', '_'],\n",
              " ['_', '_', '_', '_', '_', '_', '_', '_', '_', '_', '_', '_'],\n",
              " ['W', 'W', 'W', 'W', '_', '_', 'W', 'W', '_', '_', '_', '_'],\n",
              " ['_', '_', '_', '_', 'W', '_', 'W', '_', '_', '_', '_', '_'],\n",
              " ['W', '_', 'W', '_', 'W', '_', 'W', 'W', 'W', '_', '_', '_'],\n",
              " ['W', 'W', 'W', '_', 'W', '_', 'W', '_', '_', '_', '_', '_'],\n",
              " ['W', 'W', 'W', '_', 'W', '_', 'W', '_', '_', '_', '_', '_'],\n",
              " ['W', 'W', 'W', '_', '_', '_', 'W', '_', '_', '_', '_', '_'],\n",
              " ['_', 'W', 'W', '_', '_', 'W', 'W', 'W', '_', '_', '_', '_'],\n",
              " ['_', 'W', 'W', '_', '_', '_', 'W', '_', 'W', 'W', 'W', 'W'],\n",
              " ['_', 'W', '_', '_', 'W', '_', 'W', '_', '_', '_', '_', '_'],\n",
              " ['_', 'W', '_', '_', 'W', '_', '_', '_', '_', '_', '_', '_'],\n",
              " ['_', 'W', '_', '_', 'W', '_', '_', '_', '_', '_', 'W', '_'],\n",
              " ['_', 'W', '_', '_', 'W', 'W', 'W', '_', '_', '_', 'W', '_'],\n",
              " ['_', '_', '_', '_', '_', 'W', 'W', '_', '_', '_', 'W', '_'],\n",
              " ['_', '_', '_', '_', '_', 'W', 'W', '_', '_', '_', 'W', '_'],\n",
              " ['W', '_', '_', '_', '_', 'W', 'W', '_', 'W', 'W', 'W', 'W'],\n",
              " ['W', '_', '_', '_', '_', 'W', 'W', '_', '_', '_', 'W', '_'],\n",
              " ['W', '_', '_', '_', '_', 'W', 'W', 'W', '_', '_', 'W', 'W'],\n",
              " ['W', '_', 'W', 'W', 'W', 'W', 'W', 'W', '_', '_', 'W', '_']]"
            ]
          },
          "metadata": {},
          "execution_count": 147
        }
      ]
    },
    {
      "cell_type": "code",
      "source": [
        "start = (19,9)\n",
        "end = (0,0)\n",
        "show_path(start, end, grid)"
      ],
      "metadata": {
        "colab": {
          "base_uri": "https://localhost:8080/"
        },
        "id": "fhI-wPx--rcr",
        "outputId": "943a895f-b158-4489-cc81-f1e9b2c34e9d"
      },
      "execution_count": 148,
      "outputs": [
        {
          "output_type": "execute_result",
          "data": {
            "text/plain": [
              "[['P', 'P', 'P', 'P', 'P', 'P', '_', '_', '_', '_', '_', '_'],\n",
              " ['_', '_', '_', '_', '_', 'P', '_', '_', '_', '_', '_', '_'],\n",
              " ['W', 'W', 'W', 'W', '_', 'P', 'W', 'W', '_', '_', '_', '_'],\n",
              " ['_', '_', '_', '_', 'W', 'P', 'W', '_', '_', '_', '_', '_'],\n",
              " ['W', '_', 'W', '_', 'W', 'P', 'W', 'W', 'W', '_', '_', '_'],\n",
              " ['W', 'W', 'W', '_', 'W', 'P', 'W', '_', '_', '_', '_', '_'],\n",
              " ['W', 'W', 'W', '_', 'W', 'P', 'W', '_', '_', '_', '_', '_'],\n",
              " ['W', 'W', 'W', '_', 'P', 'P', 'W', '_', '_', '_', '_', '_'],\n",
              " ['_', 'W', 'W', '_', 'P', 'W', 'W', 'W', '_', '_', '_', '_'],\n",
              " ['_', 'W', 'W', '_', 'P', 'P', 'W', '_', 'W', 'W', 'W', 'W'],\n",
              " ['_', 'W', '_', '_', 'W', 'P', 'W', '_', '_', '_', '_', '_'],\n",
              " ['_', 'W', '_', '_', 'W', 'P', 'P', 'P', '_', '_', '_', '_'],\n",
              " ['_', 'W', '_', '_', 'W', '_', '_', 'P', '_', '_', 'W', '_'],\n",
              " ['_', 'W', '_', '_', 'W', 'W', 'W', 'P', '_', '_', 'W', '_'],\n",
              " ['_', '_', '_', '_', '_', 'W', 'W', 'P', '_', '_', 'W', '_'],\n",
              " ['_', '_', '_', '_', '_', 'W', 'W', 'P', '_', '_', 'W', '_'],\n",
              " ['W', '_', '_', '_', '_', 'W', 'W', 'P', 'W', 'W', 'W', 'W'],\n",
              " ['W', '_', '_', '_', '_', 'W', 'W', 'P', 'P', 'P', 'W', '_'],\n",
              " ['W', '_', '_', '_', '_', 'W', 'W', 'W', '_', 'P', 'W', 'W'],\n",
              " ['W', '_', 'W', 'W', 'W', 'W', 'W', 'W', '_', 'P', 'W', '_']]"
            ]
          },
          "metadata": {},
          "execution_count": 148
        }
      ]
    },
    {
      "cell_type": "code",
      "source": [
        "grid"
      ],
      "metadata": {
        "colab": {
          "base_uri": "https://localhost:8080/"
        },
        "id": "0IBoXgwfUuFF",
        "outputId": "b99052e6-37b4-4c5e-ddb7-dc33e7d74452"
      },
      "execution_count": 149,
      "outputs": [
        {
          "output_type": "execute_result",
          "data": {
            "text/plain": [
              "[['_', '_', '_', '_', '_', '_', '_', '_', '_', '_', '_', '_'],\n",
              " ['_', '_', '_', '_', '_', '_', '_', '_', '_', '_', '_', '_'],\n",
              " ['W', 'W', 'W', 'W', '_', '_', 'W', 'W', '_', '_', '_', '_'],\n",
              " ['_', '_', '_', '_', 'W', '_', 'W', '_', '_', '_', '_', '_'],\n",
              " ['W', '_', 'W', '_', 'W', '_', 'W', 'W', 'W', '_', '_', '_'],\n",
              " ['W', 'W', 'W', '_', 'W', '_', 'W', '_', '_', '_', '_', '_'],\n",
              " ['W', 'W', 'W', '_', 'W', '_', 'W', '_', '_', '_', '_', '_'],\n",
              " ['W', 'W', 'W', '_', '_', '_', 'W', '_', '_', '_', '_', '_'],\n",
              " ['_', 'W', 'W', '_', '_', 'W', 'W', 'W', '_', '_', '_', '_'],\n",
              " ['_', 'W', 'W', '_', '_', '_', 'W', '_', 'W', 'W', 'W', 'W'],\n",
              " ['_', 'W', '_', '_', 'W', '_', 'W', '_', '_', '_', '_', '_'],\n",
              " ['_', 'W', '_', '_', 'W', '_', '_', '_', '_', '_', '_', '_'],\n",
              " ['_', 'W', '_', '_', 'W', '_', '_', '_', '_', '_', 'W', '_'],\n",
              " ['_', 'W', '_', '_', 'W', 'W', 'W', '_', '_', '_', 'W', '_'],\n",
              " ['_', '_', '_', '_', '_', 'W', 'W', '_', '_', '_', 'W', '_'],\n",
              " ['_', '_', '_', '_', '_', 'W', 'W', '_', '_', '_', 'W', '_'],\n",
              " ['W', '_', '_', '_', '_', 'W', 'W', '_', 'W', 'W', 'W', 'W'],\n",
              " ['W', '_', '_', '_', '_', 'W', 'W', '_', '_', '_', 'W', '_'],\n",
              " ['W', '_', '_', '_', '_', 'W', 'W', 'W', '_', '_', 'W', 'W'],\n",
              " ['W', '_', 'W', 'W', 'W', 'W', 'W', 'W', '_', '_', 'W', '_']]"
            ]
          },
          "metadata": {},
          "execution_count": 149
        }
      ]
    },
    {
      "cell_type": "code",
      "source": [
        ""
      ],
      "metadata": {
        "id": "hR9HbaY5VZA2"
      },
      "execution_count": null,
      "outputs": []
    }
  ]
}